{
 "cells": [
  {
   "cell_type": "markdown",
   "metadata": {
    "collapsed": true,
    "slideshow": {
     "slide_type": "-"
    }
   },
   "source": [
    "<center><h1><strong> Informe Tarea 1 - Beer Clustering </strong></h1></center>\n",
    "\n",
    "<center><h3> Matías Pacheco &nbsp;&nbsp;&nbsp;&nbsp;&nbsp;&nbsp;&nbsp;&nbsp;&nbsp;&nbsp;&nbsp;&nbsp;&nbsp;&nbsp;&nbsp;&nbsp;&nbsp;&nbsp;&nbsp;&nbsp;&nbsp;&nbsp;&nbsp;&nbsp;&nbsp;&nbsp;&nbsp;&nbsp;201204619-k</h3></center>\n",
    "<center><h3> Juan Pablo Castillo Vera &nbsp;&nbsp;&nbsp;&nbsp;&nbsp;&nbsp;&nbsp;&nbsp;&nbsp;&nbsp;&nbsp;&nbsp;&nbsp; 201204595-9</h3></center>\n",
    "\n",
    "## Descripción del dataset\n",
    "\n",
    "El dataset Beer Reviews es una colección de 1.590.892 críticas de cervezas que se encuentran disponibles en el sitio http://beeradvocate.com/. Éstas críticas toman en consideración características como aroma, apariencia y sabor para asignarle un puntaje a la cerveza que está siendo evaluada.\n",
    "\n",
    "Cada registro del dataset completo está compuesto por las siguientes columnas:\n",
    "\n",
    "|Columna             |Significado            |Tipo       |\n",
    "|---                 |---                    |---        |\n",
    "|brewery_id          |ID cervecería          |Numérico   |\n",
    "|brewery_name        |Nombre Cervecería      |Texto      |\n",
    "|review_time         |Tiempo de evaluación   |Numérico   |\n",
    "|review_overall      |Puntaje del review     |Numérico   |\n",
    "|review_aroma        |Puntaje aroma          |Numérico   |\n",
    "|review_appearence   |Puntaje apariencia     |Numérico   |\n",
    "|review_profilename  |Nombre del evaluador   |Texto      |\n",
    "|beer_style          |Tipo de cerveza        |Texto      |\n",
    "|review_palate       |Puntaje paladar        |Numérico   |\n",
    "|review_taste        |Puntaje gusto          |Numérico   |\n",
    "|beer_abv            |Grado alcohólico       |Numérico   |\n",
    "|beer_beerid         |ID cerveza             |Numérico   |\n",
    "\n",
    "Cabe señalar que como pre-procesamiento de los datos, se setearon en cero todos aquellos campos numéricos del dataset que estuvieran vacíos (string '').\n",
    "\n",
    "\n",
    "## Análisis de Clustering\n",
    "\n",
    "Se realizará un análisis de clustering con el dataset con cada uno de los siguientes cinco algoritmos:\n",
    "* K-Means\n",
    "* Minibatch K-Means\n",
    "* HAC Complete\n",
    "* Ward\n",
    "* DBScan\n",
    "\n",
    "### K-Means\n",
    "\n",
    "A continuación se muestra el código de Python utilizado para encontrar clusters utilizando este algoritmo:"
   ]
  },
  {
   "cell_type": "code",
   "execution_count": null,
   "metadata": {
    "collapsed": true
   },
   "outputs": [],
   "source": [
    "from sklearn.cluster import KMeans\n",
    "from sklearn.decomposition import PCA\n",
    "\n",
    "from drink_beer import *\n",
    "\n",
    "reviews \t\t= drink([])\n",
    "labels, reviews = format_reviews(reviews)\n",
    "\n",
    "n_clusters = eval(raw_input(\"Ingrese la cantidad de clusters: \"))\n",
    "\n",
    "## Para reducir la dimensionalidad y poder dibujar los clusters\n",
    "reviews = PCA(n_components=2).fit_transform(reviews)\n",
    "k_means = KMeans(init = \"k-means++\", n_clusters = n_clusters, n_init = 100)\n",
    "\n",
    "k_means.fit(reviews)\n",
    "k_means_labels \t\t\t= k_means.labels_\n",
    "k_means_cluster_centers = k_means.cluster_centers_"
   ]
  },
  {
   "cell_type": "markdown",
   "metadata": {},
   "source": [
    "Ejecutando el algoritmo con 3, 4 y 5, se obtienen los siguientes resultados\n"
   ]
  },
  {
   "cell_type": "markdown",
   "metadata": {},
   "source": [
    "### Minibatch K-Means\n",
    "\n",
    "### HAC Complete\n",
    "\n",
    "### Ward\n",
    "\n",
    "### DBScan\n",
    "\n",
    "\n",
    "## Conclusiones\n",
    "\n",
    "¿Qué atributo, Nombre de cervecería o Tipo de cerveza, describe mejor a los cluster como etiquetas\n",
    "de clase, según los resultados obtenidos previamente? ¿Hay mejores marcas que otras en\n",
    "relación a las evaluaciones obtenidas? ¿Se puede definir algún criterio para determinar el mejor\n",
    "tipo de cerveza? Comente"
   ]
  }
 ],
 "metadata": {
  "kernelspec": {
   "display_name": "Python 2",
   "language": "python",
   "name": "python2"
  },
  "language_info": {
   "codemirror_mode": {
    "name": "ipython",
    "version": 2
   },
   "file_extension": ".py",
   "mimetype": "text/x-python",
   "name": "python",
   "nbconvert_exporter": "python",
   "pygments_lexer": "ipython2",
   "version": "2.7.13"
  }
 },
 "nbformat": 4,
 "nbformat_minor": 2
}
